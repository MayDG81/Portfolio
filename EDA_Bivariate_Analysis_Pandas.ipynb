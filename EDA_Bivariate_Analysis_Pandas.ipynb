{
  "cells": [
    {
      "cell_type": "markdown",
      "metadata": {
        "id": "9Ig6Yw8hAcZR"
      },
      "source": [
        "# EDA Bivariate Analysis: pandas exercices\n",
        "\n",
        "Load the diamonds dataset from seaborn with the following snippet.\n",
        "\n",
        "```python\n",
        "import seaborn as sns\n",
        "\n",
        "data = sns.load_dataset('diamonds')\n",
        "data\n",
        "```"
      ]
    },
    {
      "cell_type": "code",
      "execution_count": 1,
      "metadata": {
        "colab": {
          "base_uri": "https://localhost:8080/"
        },
        "id": "OqN-cQlhO4gB",
        "outputId": "57877c9f-385b-4fad-ad90-4f88947de663"
      },
      "outputs": [
        {
          "output_type": "stream",
          "name": "stdout",
          "text": [
            "   carat      cut color clarity  depth  table  price     x     y     z\n",
            "0   0.23    Ideal     E     SI2   61.5   55.0    326  3.95  3.98  2.43\n",
            "1   0.21  Premium     E     SI1   59.8   61.0    326  3.89  3.84  2.31\n",
            "2   0.23     Good     E     VS1   56.9   65.0    327  4.05  4.07  2.31\n",
            "3   0.29  Premium     I     VS2   62.4   58.0    334  4.20  4.23  2.63\n",
            "4   0.31     Good     J     SI2   63.3   58.0    335  4.34  4.35  2.75 \n",
            " ---\n",
            "<class 'pandas.core.frame.DataFrame'>\n",
            "RangeIndex: 53940 entries, 0 to 53939\n",
            "Data columns (total 10 columns):\n",
            " #   Column   Non-Null Count  Dtype   \n",
            "---  ------   --------------  -----   \n",
            " 0   carat    53940 non-null  float64 \n",
            " 1   cut      53940 non-null  category\n",
            " 2   color    53940 non-null  category\n",
            " 3   clarity  53940 non-null  category\n",
            " 4   depth    53940 non-null  float64 \n",
            " 5   table    53940 non-null  float64 \n",
            " 6   price    53940 non-null  int64   \n",
            " 7   x        53940 non-null  float64 \n",
            " 8   y        53940 non-null  float64 \n",
            " 9   z        53940 non-null  float64 \n",
            "dtypes: category(3), float64(6), int64(1)\n",
            "memory usage: 3.0 MB\n"
          ]
        }
      ],
      "source": [
        "import seaborn as sns\n",
        "import pandas as pd\n",
        "from scipy.stats import kruskal, shapiro, normaltest, f_oneway, chi2_contingency\n",
        "data = sns.load_dataset('diamonds')\n",
        "print(data.head(),'\\n','---')\n",
        "data.info()"
      ]
    },
    {
      "cell_type": "markdown",
      "metadata": {
        "id": "0hXfHJAbAiGu"
      },
      "source": [
        "## 1. Calculate the correlation of all the numeric variables and analyze the results."
      ]
    },
    {
      "cell_type": "code",
      "execution_count": 2,
      "metadata": {
        "colab": {
          "base_uri": "https://localhost:8080/"
        },
        "id": "wkHuvZpZQGZq",
        "outputId": "59c29fc8-aeab-4e1c-86c5-f04a25324623"
      },
      "outputs": [
        {
          "output_type": "stream",
          "name": "stdout",
          "text": [
            "Pearson correlation coefficient \n",
            " --- \n",
            "           carat     depth     table     price         x         y         z\n",
            "carat  1.000000  0.028224  0.181618  0.921591  0.975094  0.951722  0.953387\n",
            "depth  0.028224  1.000000 -0.295779 -0.010647 -0.025289 -0.029341  0.094924\n",
            "table  0.181618 -0.295779  1.000000  0.127134  0.195344  0.183760  0.150929\n",
            "price  0.921591 -0.010647  0.127134  1.000000  0.884435  0.865421  0.861249\n",
            "x      0.975094 -0.025289  0.195344  0.884435  1.000000  0.974701  0.970772\n",
            "y      0.951722 -0.029341  0.183760  0.865421  0.974701  1.000000  0.952006\n",
            "z      0.953387  0.094924  0.150929  0.861249  0.970772  0.952006  1.000000 \n",
            " --- \n",
            "\n",
            "Spearman rank correlation coefficient \n",
            " --- \n",
            "           carat     depth     table     price         x         y         z\n",
            "carat  1.000000  0.030104  0.194980  0.962883  0.996117  0.995572  0.993183\n",
            "depth  0.030104  1.000000 -0.245061  0.010020 -0.023442 -0.025425  0.103498\n",
            "table  0.194980 -0.245061  1.000000  0.171784  0.202231  0.195734  0.159878\n",
            "price  0.962883  0.010020  0.171784  1.000000  0.963196  0.962719  0.957232\n",
            "x      0.996117 -0.023442  0.202231  0.963196  1.000000  0.997895  0.987355\n",
            "y      0.995572 -0.025425  0.195734  0.962719  0.997895  1.000000  0.987068\n",
            "z      0.993183  0.103498  0.159878  0.957232  0.987355  0.987068  1.000000\n"
          ]
        }
      ],
      "source": [
        "print('Pearson correlation coefficient','\\n','---','\\n', data.corr(numeric_only=True),'\\n','---','\\n') # default method='pearson' (parametric)\n",
        "print('Spearman rank correlation coefficient','\\n','---','\\n', data.corr(method='spearman', numeric_only=True)) # (not parametric)"
      ]
    },
    {
      "cell_type": "markdown",
      "metadata": {
        "id": "M1kBpREaVA-I"
      },
      "source": [
        "The correlation between the continuous variables of the dataset ('carat', 'depth', 'table', 'price', 'x', 'y' and 'z') was estimated using the .corr() method. It estimates by default the Pearson correlation coefficient designed for normal variables. Since this assumption was not explored for the purposes of this exercise, the Spearman rank correlation coefficient (non-parametric) was additionally estimated. In general, no differences were detected in the strength of the correlations estimated by the two methods.\n",
        "Considering the Spearman rank correlation coefficient, no correlations were detected for the variables 'depth' and 'table' with any other variable. For the rest of the continuous variables, strong positive correlations were detected in the form of:\n",
        "- 'carat' correlated with 'price', 'x', 'y' and 'z'.\n",
        "- 'price' also correlated with 'x', 'y' and 'z'.\n",
        "- 'x' also correlated with 'y' and 'z'.\n",
        "- 'y' also correlated with 'z'."
      ]
    },
    {
      "cell_type": "markdown",
      "metadata": {
        "id": "Bt93updHGzYE"
      },
      "source": [
        "## 2. Analyze the correlation of the variable *color* and the variable *price*. Use the kruskal-wallis test."
      ]
    },
    {
      "cell_type": "code",
      "execution_count": 3,
      "metadata": {
        "colab": {
          "base_uri": "https://localhost:8080/"
        },
        "id": "3KFXIad-W4E8",
        "outputId": "f44870ba-0575-414a-a497-ae02f458af1a"
      },
      "outputs": [
        {
          "output_type": "stream",
          "name": "stdout",
          "text": [
            "KruskalResult(statistic=1335.570626350983, pvalue=2.1580813998043093e-285) \n",
            " ---\n",
            "KruskalResult(statistic=1335.570626350983, pvalue=2.1580813998043093e-285)\n"
          ]
        }
      ],
      "source": [
        "print(kruskal(*[data.price[data.color == c] for c in data.color.unique()]),'\\n','---')\n",
        "print(kruskal(*[group.price for name,group in data.groupby('color')]))"
      ]
    },
    {
      "cell_type": "markdown",
      "metadata": {
        "id": "0lwUOSNcijyp"
      },
      "source": [
        "The Kruskal-Wallis non-parametric test was used to explore whether there are differences in 'price' when considering the categories of the 'color' variable. The test shows that there are statistically significant differences (p < 0.05) in 'price' among the 'color' categories."
      ]
    },
    {
      "cell_type": "markdown",
      "metadata": {
        "id": "M-MgZpmuG1LR"
      },
      "source": [
        "## 3. Analyze the correlation of the variable *table* and the variable *clarity*. Can we use the anova method? If so, use it instead of kruskal-wallis."
      ]
    },
    {
      "cell_type": "code",
      "execution_count": 4,
      "metadata": {
        "colab": {
          "base_uri": "https://localhost:8080/"
        },
        "id": "Nz2BTgLhir1N",
        "outputId": "fd4e9dc3-d0fd-4361-f4aa-dd7643cbab5c"
      },
      "outputs": [
        {
          "output_type": "stream",
          "name": "stdout",
          "text": [
            "KruskalResult(statistic=1508.77325361572, pvalue=0.0) \n",
            " ---\n",
            "ShapiroResult(statistic=0.9539790153503418, pvalue=0.0) \n",
            " ---\n"
          ]
        },
        {
          "output_type": "stream",
          "name": "stderr",
          "text": [
            "/usr/local/lib/python3.10/dist-packages/scipy/stats/_morestats.py:1882: UserWarning: p-value may not be accurate for N > 5000.\n",
            "  warnings.warn(\"p-value may not be accurate for N > 5000.\")\n"
          ]
        }
      ],
      "source": [
        "print(kruskal(*[group.table for name,group in data.groupby('clarity')]),'\\n','---')\n",
        "print(shapiro(data.table),'\\n','---')"
      ]
    },
    {
      "cell_type": "code",
      "execution_count": 5,
      "metadata": {
        "colab": {
          "base_uri": "https://localhost:8080/"
        },
        "id": "wI367Sjzp3MM",
        "outputId": "3057aa4a-0aca-4f4e-bc9b-9bd4b50dcc56"
      },
      "outputs": [
        {
          "output_type": "stream",
          "name": "stdout",
          "text": [
            "NormaltestResult(statistic=8034.751738354047, pvalue=0.0)\n"
          ]
        }
      ],
      "source": [
        "print(normaltest(data.table)) # if normal: f_oneway(*[group.table for name,group in data.groupby('clarity')])"
      ]
    },
    {
      "cell_type": "markdown",
      "metadata": {
        "id": "EgpTcz7frLDW"
      },
      "source": [
        "To explore whether the continuous variable 'table' follows a normal distribution, the Shapiro-Wilk test was used. Its result shows a warning related to the sample size (p-value may not be accurate for N > 5000), so the assumption of normality was additionally tested using D'Agostino and Pearson's approximation. Both tests show that the distribution of 'table' is different from a normal distribution (p < 0.05), so a parametric ANOVA is not suitable for estimating differences between groups in 'table'.\n",
        "The Kruskal-Wallis test was used to explore whether there are differences in 'table' for the categories of 'clarity'. The test shows that there are statistically significant differences (p < 0.05) in 'table' among the 'clarity' groups."
      ]
    },
    {
      "cell_type": "markdown",
      "metadata": {
        "id": "saT9Bxa7GyxH"
      },
      "source": [
        "## 4. Measure the association between *cut* and *color* variables."
      ]
    },
    {
      "cell_type": "code",
      "execution_count": 6,
      "metadata": {
        "colab": {
          "base_uri": "https://localhost:8080/"
        },
        "id": "MfFT1z1WtasZ",
        "outputId": "074c5015-ffba-4462-f5f2-257f601c38bc"
      },
      "outputs": [
        {
          "output_type": "stream",
          "name": "stdout",
          "text": [
            "color         D     E     F     G     H     I    J\n",
            "cut                                               \n",
            "Ideal      2834  3903  3826  4884  3115  2093  896\n",
            "Premium    1603  2337  2331  2924  2360  1428  808\n",
            "Very Good  1513  2400  2164  2299  1824  1204  678\n",
            "Good        662   933   909   871   702   522  307\n",
            "Fair        163   224   312   314   303   175  119 \n",
            " ---\n",
            "Chi-squared statistic: 310.3179005211542 \n",
            "Cramér's V: 0.03792433266357063\n"
          ]
        }
      ],
      "source": [
        "print(pd.crosstab(data.cut,data.color),'\\n','---')\n",
        "chi2_statistic, _, _, c_table = chi2_contingency(pd.crosstab(data.cut,data.color))\n",
        "cramers_v = (chi2_statistic / (c_table.sum() * (min(c_table.shape) - 1))) **0.5\n",
        "print(f\"Chi-squared statistic: {chi2_statistic} \\nCramér's V: {cramers_v}\")"
      ]
    },
    {
      "cell_type": "markdown",
      "source": [
        "The association between 'cut' and 'color' variables was estimated by using Cramer's V coefficient. Its value (0.038) shows that there is no association between both variables."
      ],
      "metadata": {
        "id": "mI-JzTTG1YLU"
      }
    }
  ],
  "metadata": {
    "colab": {
      "provenance": []
    },
    "kernelspec": {
      "display_name": "Python 3",
      "name": "python3"
    },
    "language_info": {
      "name": "python"
    }
  },
  "nbformat": 4,
  "nbformat_minor": 0
}